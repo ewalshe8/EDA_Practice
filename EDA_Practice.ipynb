{
  "nbformat": 4,
  "nbformat_minor": 0,
  "metadata": {
    "colab": {
      "name": "EDA_Assignment.ipynb",
      "provenance": [],
      "collapsed_sections": []
    },
    "kernelspec": {
      "name": "python3",
      "display_name": "Python 3"
    }
  },
  "cells": [
    {
      "cell_type": "code",
      "metadata": {
        "id": "hvDsfVeQJT3k"
      },
      "source": [
        ""
      ],
      "execution_count": null,
      "outputs": []
    },
    {
      "cell_type": "markdown",
      "metadata": {
        "id": "Zt2wLZM8KVPt"
      },
      "source": [
        "# What is Exploratory Data Analysis?\n",
        "\n",
        "Exploratory Data Analysis (EDA) is a way of analysing data with the use of visual plots in order to summarize their main characteristics. Some examples of plots used include histograms, scatter plots and box plots. It is used to tell us what the data can tell us beyond traditional methods of formal modelling and hypothesis testing. EDA can help getting an overall view of the data but also focus on describing and analysing a particular sample. "
      ]
    },
    {
      "cell_type": "code",
      "metadata": {
        "id": "A9TV9qvSNzTl"
      },
      "source": [
        ""
      ],
      "execution_count": null,
      "outputs": []
    },
    {
      "cell_type": "markdown",
      "metadata": {
        "id": "d1C29P5CN0QC"
      },
      "source": [
        "# In Class Strategies \n"
      ]
    },
    {
      "cell_type": "code",
      "metadata": {
        "id": "A91pTYFZN6g6",
        "colab": {
          "base_uri": "https://localhost:8080/",
          "height": 175
        },
        "outputId": "57a5b41d-9af4-4e09-fcc3-fdbf3ccbe510"
      },
      "source": [
        "from sklearn import datasets\n",
        "import pandas as pd\n",
        "iris = datasets.load_iris()\n",
        "print(type(iris))\n",
        "print(iris.keys())\n",
        "iris['target_names']\n",
        "\n",
        "#creating dataframe for iris dataset and then diplaying the last 3 variables in a tabular format\n",
        "X = iris.data\n",
        "y = iris.target\n",
        "df = pd.DataFrame(X, columns=iris.feature_names) \n",
        "full_df = df.copy()\n",
        "full_df['Target']=y\n",
        "full_df['Target_Text'] = full_df.Target.apply(lambda x: {0: 'Setosa', 1: 'Versicolour',\n",
        "                                                         2: 'Virginica'}[x])\n",
        "full_df.tail(n=3)"
      ],
      "execution_count": null,
      "outputs": [
        {
          "output_type": "stream",
          "text": [
            "<class 'sklearn.utils.Bunch'>\n",
            "dict_keys(['data', 'target', 'target_names', 'DESCR', 'feature_names', 'filename'])\n"
          ],
          "name": "stdout"
        },
        {
          "output_type": "execute_result",
          "data": {
            "text/html": [
              "<div>\n",
              "<style scoped>\n",
              "    .dataframe tbody tr th:only-of-type {\n",
              "        vertical-align: middle;\n",
              "    }\n",
              "\n",
              "    .dataframe tbody tr th {\n",
              "        vertical-align: top;\n",
              "    }\n",
              "\n",
              "    .dataframe thead th {\n",
              "        text-align: right;\n",
              "    }\n",
              "</style>\n",
              "<table border=\"1\" class=\"dataframe\">\n",
              "  <thead>\n",
              "    <tr style=\"text-align: right;\">\n",
              "      <th></th>\n",
              "      <th>sepal length (cm)</th>\n",
              "      <th>sepal width (cm)</th>\n",
              "      <th>petal length (cm)</th>\n",
              "      <th>petal width (cm)</th>\n",
              "      <th>Target</th>\n",
              "      <th>Target_Text</th>\n",
              "    </tr>\n",
              "  </thead>\n",
              "  <tbody>\n",
              "    <tr>\n",
              "      <th>147</th>\n",
              "      <td>6.5</td>\n",
              "      <td>3.0</td>\n",
              "      <td>5.2</td>\n",
              "      <td>2.0</td>\n",
              "      <td>2</td>\n",
              "      <td>Virginica</td>\n",
              "    </tr>\n",
              "    <tr>\n",
              "      <th>148</th>\n",
              "      <td>6.2</td>\n",
              "      <td>3.4</td>\n",
              "      <td>5.4</td>\n",
              "      <td>2.3</td>\n",
              "      <td>2</td>\n",
              "      <td>Virginica</td>\n",
              "    </tr>\n",
              "    <tr>\n",
              "      <th>149</th>\n",
              "      <td>5.9</td>\n",
              "      <td>3.0</td>\n",
              "      <td>5.1</td>\n",
              "      <td>1.8</td>\n",
              "      <td>2</td>\n",
              "      <td>Virginica</td>\n",
              "    </tr>\n",
              "  </tbody>\n",
              "</table>\n",
              "</div>"
            ],
            "text/plain": [
              "     sepal length (cm)  sepal width (cm)  ...  Target  Target_Text\n",
              "147                6.5               3.0  ...       2    Virginica\n",
              "148                6.2               3.4  ...       2    Virginica\n",
              "149                5.9               3.0  ...       2    Virginica\n",
              "\n",
              "[3 rows x 6 columns]"
            ]
          },
          "metadata": {
            "tags": []
          },
          "execution_count": 24
        }
      ]
    },
    {
      "cell_type": "code",
      "metadata": {
        "id": "yMLLCY2-PB2K",
        "colab": {
          "base_uri": "https://localhost:8080/",
          "height": 1000
        },
        "outputId": "7bcad71b-21f6-40b6-aca9-04d6fce10457"
      },
      "source": [
        "print(iris['DESCR'])"
      ],
      "execution_count": null,
      "outputs": [
        {
          "output_type": "stream",
          "text": [
            ".. _iris_dataset:\n",
            "\n",
            "Iris plants dataset\n",
            "--------------------\n",
            "\n",
            "**Data Set Characteristics:**\n",
            "\n",
            "    :Number of Instances: 150 (50 in each of three classes)\n",
            "    :Number of Attributes: 4 numeric, predictive attributes and the class\n",
            "    :Attribute Information:\n",
            "        - sepal length in cm\n",
            "        - sepal width in cm\n",
            "        - petal length in cm\n",
            "        - petal width in cm\n",
            "        - class:\n",
            "                - Iris-Setosa\n",
            "                - Iris-Versicolour\n",
            "                - Iris-Virginica\n",
            "                \n",
            "    :Summary Statistics:\n",
            "\n",
            "    ============== ==== ==== ======= ===== ====================\n",
            "                    Min  Max   Mean    SD   Class Correlation\n",
            "    ============== ==== ==== ======= ===== ====================\n",
            "    sepal length:   4.3  7.9   5.84   0.83    0.7826\n",
            "    sepal width:    2.0  4.4   3.05   0.43   -0.4194\n",
            "    petal length:   1.0  6.9   3.76   1.76    0.9490  (high!)\n",
            "    petal width:    0.1  2.5   1.20   0.76    0.9565  (high!)\n",
            "    ============== ==== ==== ======= ===== ====================\n",
            "\n",
            "    :Missing Attribute Values: None\n",
            "    :Class Distribution: 33.3% for each of 3 classes.\n",
            "    :Creator: R.A. Fisher\n",
            "    :Donor: Michael Marshall (MARSHALL%PLU@io.arc.nasa.gov)\n",
            "    :Date: July, 1988\n",
            "\n",
            "The famous Iris database, first used by Sir R.A. Fisher. The dataset is taken\n",
            "from Fisher's paper. Note that it's the same as in R, but not as in the UCI\n",
            "Machine Learning Repository, which has two wrong data points.\n",
            "\n",
            "This is perhaps the best known database to be found in the\n",
            "pattern recognition literature.  Fisher's paper is a classic in the field and\n",
            "is referenced frequently to this day.  (See Duda & Hart, for example.)  The\n",
            "data set contains 3 classes of 50 instances each, where each class refers to a\n",
            "type of iris plant.  One class is linearly separable from the other 2; the\n",
            "latter are NOT linearly separable from each other.\n",
            "\n",
            ".. topic:: References\n",
            "\n",
            "   - Fisher, R.A. \"The use of multiple measurements in taxonomic problems\"\n",
            "     Annual Eugenics, 7, Part II, 179-188 (1936); also in \"Contributions to\n",
            "     Mathematical Statistics\" (John Wiley, NY, 1950).\n",
            "   - Duda, R.O., & Hart, P.E. (1973) Pattern Classification and Scene Analysis.\n",
            "     (Q327.D83) John Wiley & Sons.  ISBN 0-471-22361-1.  See page 218.\n",
            "   - Dasarathy, B.V. (1980) \"Nosing Around the Neighborhood: A New System\n",
            "     Structure and Classification Rule for Recognition in Partially Exposed\n",
            "     Environments\".  IEEE Transactions on Pattern Analysis and Machine\n",
            "     Intelligence, Vol. PAMI-2, No. 1, 67-71.\n",
            "   - Gates, G.W. (1972) \"The Reduced Nearest Neighbor Rule\".  IEEE Transactions\n",
            "     on Information Theory, May 1972, 431-433.\n",
            "   - See also: 1988 MLC Proceedings, 54-64.  Cheeseman et al\"s AUTOCLASS II\n",
            "     conceptual clustering system finds 3 classes in the data.\n",
            "   - Many, many more ...\n"
          ],
          "name": "stdout"
        }
      ]
    },
    {
      "cell_type": "code",
      "metadata": {
        "id": "yydZRppfrfH3"
      },
      "source": [
        "setosa_petal_length = full_df[full_df['Target'] == 0]['petal length (cm)']  # Iris-Setosa\n",
        "setosa_petal_width = full_df[full_df['Target'] == 0]['petal width (cm)']  # Iris-Setosa\n",
        "\n",
        "versicolor_petal_length = full_df[full_df['Target'] == 1]['petal length (cm)']  # Iris-Versicolour\n",
        "versicolor_petal_width = full_df[full_df['Target'] == 1]['petal width (cm)']  # Iris-Versicolour\n",
        "\n",
        "virginica_petal_length = full_df[full_df['Target'] == 2]['petal length (cm)']  # Iris-Virginica\n",
        "virginica_petal_width = full_df[full_df['Target'] == 2]['petal width (cm)']  # Iris-Virginica"
      ],
      "execution_count": null,
      "outputs": []
    },
    {
      "cell_type": "markdown",
      "metadata": {
        "id": "49bHp8r5eDc1"
      },
      "source": [
        "**Strategy 1:** **Step 1:** The first step before implementing any strategies is to simply import the dataset. After loading the dataset, a .key() method is used to return a view object which contains the keys of the dictionary as a list. Now that we know the keys of the dataset, we can search the dataset as we please. This is seen above where we view the target names in the dataset and also a description of it. "
      ]
    },
    {
      "cell_type": "markdown",
      "metadata": {
        "id": "mL2Lg7acfghP"
      },
      "source": [
        "**Step 2:** In order to conduct EDA, we must import plotting modules to allow us to display data on various different types of plots and graphs."
      ]
    },
    {
      "cell_type": "code",
      "metadata": {
        "id": "a4VdiZ_tPOJO"
      },
      "source": [
        "import matplotlib.pyplot as plt\n",
        "import seaborn as sns\n",
        "sns.set()"
      ],
      "execution_count": null,
      "outputs": []
    },
    {
      "cell_type": "code",
      "metadata": {
        "id": "FHJnbUe1joGR",
        "colab": {
          "base_uri": "https://localhost:8080/",
          "height": 285
        },
        "outputId": "29b3b887-5eb3-4de1-b170-1286be335b20"
      },
      "source": [
        "\n",
        "# Plot histogram of versicolor petal lengths\n",
        "plt.hist(versicolor_petal_length)\n",
        "plt.xlabel('petal length (cm)')\n",
        "plt.ylabel('count')\n",
        "# Show histogram\n",
        "plt.show()"
      ],
      "execution_count": null,
      "outputs": [
        {
          "output_type": "display_data",
          "data": {
            "image/png": "[encoded data removed]",
            "text/plain": [
              "<Figure size 432x288 with 1 Axes>"
            ]
          },
          "metadata": {
            "tags": []
          }
        }
      ]
    },
    {
      "cell_type": "markdown",
      "metadata": {
        "id": "1dSe_8HThbCv"
      },
      "source": [
        "The first strategy to be implemented is to plot the three species types on individual histograms. To complete this strategy, we must adjust the number of bins in each histogram. Bins are simply the blocks used to combine values before getting the frequency. For the sake of analysis accuracy, I will keep the number the same as when practiced in the lecture."
      ]
    },
    {
      "cell_type": "code",
      "metadata": {
        "id": "hVpgz3Unf5bl",
        "colab": {
          "base_uri": "https://localhost:8080/",
          "height": 285
        },
        "outputId": "f45c777b-e1d4-4905-dda5-6b49ddc38d4a"
      },
      "source": [
        "import numpy as np\n",
        "\n",
        "#number od datapoints in the case of versicolor\n",
        "n_data = len(versicolor_petal_length)\n",
        "\n",
        "#bins = square root of number of datapoints\n",
        "n_bins = np.sqrt(n_data)\n",
        "\n",
        "#converted to int\n",
        "n_bins = int(n_bins)\n",
        "\n",
        "#histogram plotted\n",
        "plt.hist(versicolor_petal_length, bins=n_bins)\n",
        "\n",
        "#axes labels\n",
        "_ = plt.xlabel('petal length (cm)')\n",
        "_ = plt.ylabel('count')\n",
        "\n",
        "plt.show()"
      ],
      "execution_count": null,
      "outputs": [
        {
          "output_type": "display_data",
          "data": {
            "image/png": "[encoded data removed]",
            "text/plain": [
              "<Figure size 432x288 with 1 Axes>"
            ]
          },
          "metadata": {
            "tags": []
          }
        }
      ]
    },
    {
      "cell_type": "markdown",
      "metadata": {
        "id": "JgJDXeUYsGXp"
      },
      "source": [
        "The above code shows that the code is now working and displays an example of a histogram for versicolor. The graph shows it is skewed to the left with more than half of the versicolour's petal length being greater than 4cm. I will now continue to plot histograms for virginica and sertosa. "
      ]
    },
    {
      "cell_type": "code",
      "metadata": {
        "id": "mvw0u_y_jeUT",
        "colab": {
          "base_uri": "https://localhost:8080/",
          "height": 821
        },
        "outputId": "3ff9b46a-cd53-4a37-8091-08b33568582d"
      },
      "source": [
        "plt.hist(setosa_petal_length, bins=n_bins)\n",
        "_ = plt.xlabel('petal length (cm)')\n",
        "_ = plt.ylabel('count')\n",
        "plt.show()\n",
        "\n",
        "plt.hist(versicolor_petal_length, bins=n_bins)\n",
        "_ = plt.xlabel('petal length (cm)')\n",
        "_ = plt.ylabel('count')\n",
        "plt.show()\n",
        "\n",
        "plt.hist(virginica_petal_length, bins=n_bins)\n",
        "_ = plt.xlabel('petal length (cm)')\n",
        "_ = plt.ylabel('count')\n",
        "plt.show()"
      ],
      "execution_count": null,
      "outputs": [
        {
          "output_type": "display_data",
          "data": {
            "image/png": "[encoded data removed]",
            "text/plain": [
              "<Figure size 432x288 with 1 Axes>"
            ]
          },
          "metadata": {
            "tags": []
          }
        },
        {
          "output_type": "display_data",
          "data": {
            "image/png": "[encoded data removed]",
            "text/plain": [
              "<Figure size 432x288 with 1 Axes>"
            ]
          },
          "metadata": {
            "tags": []
          }
        },
        {
          "output_type": "display_data",
          "data": {
            "image/png": "[encoded data removed]",
            "text/plain": [
              "<Figure size 432x288 with 1 Axes>"
            ]
          },
          "metadata": {
            "tags": []
          }
        }
      ]
    },
    {
      "cell_type": "markdown",
      "metadata": {
        "id": "CeFMA9aEtIXI"
      },
      "source": [
        "The purposes of the histogram strategy is to roughly assess the probability distribution of a variable. It does this by depicting the frequencies of observations that occur in a particular range of values.\n",
        "Some benefits of this strategy is the ability to visualize the distribution of the data, particularly when dealing with large datasets. It also helps quickly identify what way the data is skewed. "
      ]
    },
    {
      "cell_type": "markdown",
      "metadata": {
        "id": "HGTF-Yn2E6OU"
      },
      "source": [
        "**Strategy 2:** The next strategy to be implemented is a bee swarm plot. It is a one dimesional plot that does not have any overlapping points, despite them being quite tightly packed. To create a bee swarm plot in Python, the seaborn package needs to be imported. Below I will plot the data using seaborn's default settings. "
      ]
    },
    {
      "cell_type": "code",
      "metadata": {
        "id": "K1RkqYtrsb4S",
        "colab": {
          "base_uri": "https://localhost:8080/",
          "height": 285
        },
        "outputId": "cf0b22f5-4a2e-429f-de34-9b1970bd98f3"
      },
      "source": [
        "_ = sns.swarmplot(x='Target_Text', y='petal length (cm)', data=full_df) \n",
        "\n",
        "#axes labels \n",
        "_ = plt.xlabel('species')\n",
        "_ = plt.ylabel('sepal length (cm)')\n",
        "plt.show()"
      ],
      "execution_count": null,
      "outputs": [
        {
          "output_type": "display_data",
          "data": {
            "image/png": "[encoded data removed]",
            "text/plain": [
              "<Figure size 432x288 with 1 Axes>"
            ]
          },
          "metadata": {
            "tags": []
          }
        }
      ]
    },
    {
      "cell_type": "markdown",
      "metadata": {
        "id": "OKv1iv49H3Pt"
      },
      "source": [
        "From the chart we can see all individual data points plotted on the graph for each of the three species. It can be clearly seen that there is an overlap in the sepal length with Versicolour and Virginica, however Setosa's sepal length is shorter and thus not overlapping. Thus the benefit and purpose of bee swarm plots is the ability to emphasize the distribution of individual points, as opposed to containing them in bins like a histogram. "
      ]
    },
    {
      "cell_type": "markdown",
      "metadata": {
        "id": "Wp18QW5CJuMX"
      },
      "source": [
        "**Strategy 3:** The third strategy I will implement in this EDA is the Empirical Cumulative Distributive Function, or ECDF for short. The ECDF is a probability distribution you get when taking a sample from your sample. Thus it will give you a fraction of sample observations less than or equal to a value (x). I will explain this after plotting the ECDF graph. In this example we will be computing an ECDF for a one-dimensional array of elements, and more specifically for the setosa species."
      ]
    },
    {
      "cell_type": "code",
      "metadata": {
        "id": "LAebPSvXG4eL"
      },
      "source": [
        "#creating an ecdf function\n",
        "def ecdf(data):\n",
        "  #number of datapoints\n",
        "  n = len(data)\n",
        "\n",
        "  #creating x-data\n",
        "  x = np.sort(data)\n",
        "\n",
        "  #creating y-data\n",
        "  y = np.arange(1, n+1) / n\n",
        "\n",
        "  return x, y"
      ],
      "execution_count": null,
      "outputs": []
    },
    {
      "cell_type": "code",
      "metadata": {
        "id": "v37WHLgbNgar",
        "colab": {
          "base_uri": "https://localhost:8080/",
          "height": 285
        },
        "outputId": "f80a3d8b-3092-402c-8024-83f3e29b2aaa"
      },
      "source": [
        "x_vers, y_vers = ecdf(setosa_petal_length)\n",
        "\n",
        "#making the plot\n",
        "plt.plot(x_vers, y_vers, marker='.', linestyle='none')\n",
        "\n",
        "#axes labels\n",
        "_ = plt.xlabel('setosa_petal_length') \n",
        "_ = plt.ylabel('ECDF')\n",
        "\n",
        "plt.show()"
      ],
      "execution_count": null,
      "outputs": [
        {
          "output_type": "display_data",
          "data": {
            "image/png": "[encoded data removed]",
            "text/plain": [
              "<Figure size 432x288 with 1 Axes>"
            ]
          },
          "metadata": {
            "tags": []
          }
        }
      ]
    },
    {
      "cell_type": "markdown",
      "metadata": {
        "id": "eJtGfrH5PCDJ"
      },
      "source": [
        "The above code shows us that 75% of setosa has a petal length less than 1.5 and 25% of setosa has a petal lenght less than 1.3. Similarly to bee swarm plot, a benefit of the ECDF is the ability to view individual data points as opposed to binning them together on a histogram. This ECDF function can be taken a step further and the three species can be plotted alongside each other for comparison."
      ]
    },
    {
      "cell_type": "code",
      "metadata": {
        "id": "RDj2FKrCOw7W",
        "colab": {
          "base_uri": "https://localhost:8080/",
          "height": 285
        },
        "outputId": "af43e328-734a-4857-afde-eeedf1e817b4"
      },
      "source": [
        "x_set, y_set = ecdf(setosa_petal_length)\n",
        "x_vers, y_vers = ecdf(versicolor_petal_length)\n",
        "x_virg, y_virg = ecdf(virginica_petal_length)\n",
        "\n",
        "\n",
        "\n",
        "#all ECDFS plotted on the same plot\n",
        "plt.plot(x_set, y_set, marker='.', linestyle='none')\n",
        "plt.plot(x_vers, y_vers, marker='.', linestyle='none')\n",
        "plt.plot(x_virg, y_virg, marker='.', linestyle='none')\n",
        "\n",
        "#define the plot\n",
        "plt.legend(('setosa', 'versicolor', 'virginica'), loc='lower right')\n",
        "_ = plt.xlabel('petal length (cm)')\n",
        "_ = plt.ylabel('ECDF')\n",
        "\n",
        "\n",
        "plt.show()"
      ],
      "execution_count": null,
      "outputs": [
        {
          "output_type": "display_data",
          "data": {
            "image/png": "[encoded data removed]",
            "text/plain": [
              "<Figure size 432x288 with 1 Axes>"
            ]
          },
          "metadata": {
            "tags": []
          }
        }
      ]
    },
    {
      "cell_type": "markdown",
      "metadata": {
        "id": "4sH_sRcgR1Eh"
      },
      "source": [
        "When plotting the three species alongside each other, it is clear to see that the petal length varies less than with the other two species, with virginica varying the most. Thus another benefit of the ECDF is to be able to compare and contrast the sample observatoins less than a given value."
      ]
    },
    {
      "cell_type": "markdown",
      "metadata": {
        "id": "KpO4C1K1ygaU"
      },
      "source": [
        "**Strategy 4:** The fourth and final strategy is to calculate the mean and  median from the dataset. The median calculates the middle value of the dataset while the mean calculates the average value. . The purpose for calculating both is because they give you a representation of the distribution of the dataset. If the mean and median are different, it shows the data is not symetrical. The advantage of using the mean is that it takes account of all values, but it can be affected by very large or very small values. The advantage of the median is it is not affected by very small or large values. It's limitation however is that in the case of an even number of values in the dataset, the two middle numbers are averaged and hence the mdeian value may not be an original value in the dataset. Below will show an example of showing the mean and median for the setosa petal length on a seaborn plot. "
      ]
    },
    {
      "cell_type": "code",
      "metadata": {
        "id": "BSrQslfXRsqy",
        "colab": {
          "base_uri": "https://localhost:8080/",
          "height": 320
        },
        "outputId": "0b8ebe7b-b8ee-4792-aa25-8bb983ca286c"
      },
      "source": [
        "# Compute the mean: mean_length_vers\n",
        "mean_length_seto = np.mean(setosa_petal_length)\n",
        "median_length_seto = np.median(setosa_petal_length)\n",
        "# Print the result with some nice formatting\n",
        "print('Mean: I. setosa:', mean_length_seto, 'cm')\n",
        "print('Median: I. setosa:', median_length_seto, 'cm')\n",
        "\n",
        "# Create bee swarm plot with Seaborn's default settings\n",
        "ax = plt.gca()\n",
        "_ = sns.swarmplot(x='Target_Text', y='petal length (cm)', \n",
        "                  data=full_df[full_df['Target_Text'] == 'Setosa'])\n",
        "ax.axhline(mean_length_seto, color='r', linestyle='--')\n",
        "ax.axhline(median_length_seto, color='g', linestyle='-')\n",
        "\n",
        "plt.legend({'Mean':mean_length_seto,'Median':median_length_seto})\n",
        "\n",
        "# Label the axes\n",
        "_ = plt.xlabel('species')\n",
        "_ = plt.ylabel('petal length (cm)')\n",
        "# annotation\n",
        "\n",
        "\n",
        "# Show the plot\n",
        "plt.show()"
      ],
      "execution_count": null,
      "outputs": [
        {
          "output_type": "stream",
          "text": [
            "Mean: I. setosa: 1.4620000000000002 cm\n",
            "Median: I. setosa: 1.5 cm\n"
          ],
          "name": "stdout"
        },
        {
          "output_type": "display_data",
          "data": {
            "image/png": "[encoded data removed]",
            "text/plain": [
              "<Figure size 432x288 with 1 Axes>"
            ]
          },
          "metadata": {
            "tags": []
          }
        }
      ]
    },
    {
      "cell_type": "markdown",
      "metadata": {
        "id": "uScvUx0i2s6f"
      },
      "source": [
        "# Wine Dataset EDA\n",
        "Before we conduct EDA on this particular dataset, first it must be imported. After this I use the .keys() method which gives us the various keys in the dictionary. From here I created a dataframe to make the data easier to view, and displayed the last 5 rows in a data table. This gives a good look at what data we are dealing with and can mve forward with the EDA."
      ]
    },
    {
      "cell_type": "code",
      "metadata": {
        "id": "qp6XYaXB2ngd",
        "colab": {
          "base_uri": "https://localhost:8080/",
          "height": 35
        },
        "outputId": "0ce9d82a-db0e-405f-b5fd-907cff7df285"
      },
      "source": [
        "wine = datasets.load_wine()\n",
        "print(wine.keys())"
      ],
      "execution_count": null,
      "outputs": [
        {
          "output_type": "stream",
          "text": [
            "dict_keys(['data', 'target', 'target_names', 'DESCR', 'feature_names'])\n"
          ],
          "name": "stdout"
        }
      ]
    },
    {
      "cell_type": "code",
      "metadata": {
        "id": "XTlx4tuMInt9",
        "colab": {
          "base_uri": "https://localhost:8080/",
          "height": 35
        },
        "outputId": "017b5468-cb57-429c-92e1-f7e7f7170727"
      },
      "source": [
        "wine['target_names']"
      ],
      "execution_count": null,
      "outputs": [
        {
          "output_type": "execute_result",
          "data": {
            "text/plain": [
              "array(['class_0', 'class_1', 'class_2'], dtype='<U7')"
            ]
          },
          "metadata": {
            "tags": []
          },
          "execution_count": 37
        }
      ]
    },
    {
      "cell_type": "code",
      "metadata": {
        "id": "WA7uDDj6I7ug",
        "colab": {
          "base_uri": "https://localhost:8080/",
          "height": 222
        },
        "outputId": "1e13d00a-457b-400c-cdcb-b6c3f81028e7"
      },
      "source": [
        "X = wine.data\n",
        "y = wine.target\n",
        "df2 = pd.DataFrame(X, columns=wine.feature_names) \n",
        "full_df2 = df2.copy()\n",
        "full_df2['Target']=y\n",
        "full_df2['Target_Text'] = full_df2.Target.apply(lambda x: {0: 'class_0', 1: 'class_1',\n",
        "                                                         2: 'class_2'}[x])\n",
        "full_df2.tail(n=5)"
      ],
      "execution_count": null,
      "outputs": [
        {
          "output_type": "execute_result",
          "data": {
            "text/html": [
              "<div>\n",
              "<style scoped>\n",
              "    .dataframe tbody tr th:only-of-type {\n",
              "        vertical-align: middle;\n",
              "    }\n",
              "\n",
              "    .dataframe tbody tr th {\n",
              "        vertical-align: top;\n",
              "    }\n",
              "\n",
              "    .dataframe thead th {\n",
              "        text-align: right;\n",
              "    }\n",
              "</style>\n",
              "<table border=\"1\" class=\"dataframe\">\n",
              "  <thead>\n",
              "    <tr style=\"text-align: right;\">\n",
              "      <th></th>\n",
              "      <th>alcohol</th>\n",
              "      <th>malic_acid</th>\n",
              "      <th>ash</th>\n",
              "      <th>alcalinity_of_ash</th>\n",
              "      <th>magnesium</th>\n",
              "      <th>total_phenols</th>\n",
              "      <th>flavanoids</th>\n",
              "      <th>nonflavanoid_phenols</th>\n",
              "      <th>proanthocyanins</th>\n",
              "      <th>color_intensity</th>\n",
              "      <th>hue</th>\n",
              "      <th>od280/od315_of_diluted_wines</th>\n",
              "      <th>proline</th>\n",
              "      <th>Target</th>\n",
              "      <th>Target_Text</th>\n",
              "    </tr>\n",
              "  </thead>\n",
              "  <tbody>\n",
              "    <tr>\n",
              "      <th>173</th>\n",
              "      <td>13.71</td>\n",
              "      <td>5.65</td>\n",
              "      <td>2.45</td>\n",
              "      <td>20.5</td>\n",
              "      <td>95.0</td>\n",
              "      <td>1.68</td>\n",
              "      <td>0.61</td>\n",
              "      <td>0.52</td>\n",
              "      <td>1.06</td>\n",
              "      <td>7.7</td>\n",
              "      <td>0.64</td>\n",
              "      <td>1.74</td>\n",
              "      <td>740.0</td>\n",
              "      <td>2</td>\n",
              "      <td>class_2</td>\n",
              "    </tr>\n",
              "    <tr>\n",
              "      <th>174</th>\n",
              "      <td>13.40</td>\n",
              "      <td>3.91</td>\n",
              "      <td>2.48</td>\n",
              "      <td>23.0</td>\n",
              "      <td>102.0</td>\n",
              "      <td>1.80</td>\n",
              "      <td>0.75</td>\n",
              "      <td>0.43</td>\n",
              "      <td>1.41</td>\n",
              "      <td>7.3</td>\n",
              "      <td>0.70</td>\n",
              "      <td>1.56</td>\n",
              "      <td>750.0</td>\n",
              "      <td>2</td>\n",
              "      <td>class_2</td>\n",
              "    </tr>\n",
              "    <tr>\n",
              "      <th>175</th>\n",
              "      <td>13.27</td>\n",
              "      <td>4.28</td>\n",
              "      <td>2.26</td>\n",
              "      <td>20.0</td>\n",
              "      <td>120.0</td>\n",
              "      <td>1.59</td>\n",
              "      <td>0.69</td>\n",
              "      <td>0.43</td>\n",
              "      <td>1.35</td>\n",
              "      <td>10.2</td>\n",
              "      <td>0.59</td>\n",
              "      <td>1.56</td>\n",
              "      <td>835.0</td>\n",
              "      <td>2</td>\n",
              "      <td>class_2</td>\n",
              "    </tr>\n",
              "    <tr>\n",
              "      <th>176</th>\n",
              "      <td>13.17</td>\n",
              "      <td>2.59</td>\n",
              "      <td>2.37</td>\n",
              "      <td>20.0</td>\n",
              "      <td>120.0</td>\n",
              "      <td>1.65</td>\n",
              "      <td>0.68</td>\n",
              "      <td>0.53</td>\n",
              "      <td>1.46</td>\n",
              "      <td>9.3</td>\n",
              "      <td>0.60</td>\n",
              "      <td>1.62</td>\n",
              "      <td>840.0</td>\n",
              "      <td>2</td>\n",
              "      <td>class_2</td>\n",
              "    </tr>\n",
              "    <tr>\n",
              "      <th>177</th>\n",
              "      <td>14.13</td>\n",
              "      <td>4.10</td>\n",
              "      <td>2.74</td>\n",
              "      <td>24.5</td>\n",
              "      <td>96.0</td>\n",
              "      <td>2.05</td>\n",
              "      <td>0.76</td>\n",
              "      <td>0.56</td>\n",
              "      <td>1.35</td>\n",
              "      <td>9.2</td>\n",
              "      <td>0.61</td>\n",
              "      <td>1.60</td>\n",
              "      <td>560.0</td>\n",
              "      <td>2</td>\n",
              "      <td>class_2</td>\n",
              "    </tr>\n",
              "  </tbody>\n",
              "</table>\n",
              "</div>"
            ],
            "text/plain": [
              "     alcohol  malic_acid   ash  ...  proline  Target  Target_Text\n",
              "173    13.71        5.65  2.45  ...    740.0       2      class_2\n",
              "174    13.40        3.91  2.48  ...    750.0       2      class_2\n",
              "175    13.27        4.28  2.26  ...    835.0       2      class_2\n",
              "176    13.17        2.59  2.37  ...    840.0       2      class_2\n",
              "177    14.13        4.10  2.74  ...    560.0       2      class_2\n",
              "\n",
              "[5 rows x 15 columns]"
            ]
          },
          "metadata": {
            "tags": []
          },
          "execution_count": 38
        }
      ]
    },
    {
      "cell_type": "code",
      "metadata": {
        "id": "IGwbsspZJwb6"
      },
      "source": [
        "class_0_alcohol = full_df2[full_df2['Target']==0]['alcohol']\n",
        "class_0_color = full_df2[full_df2['Target']==0]['color_intensity']\n",
        "\n",
        "class_1_alcohol = full_df2[full_df2['Target']==1]['alcohol']\n",
        "class_1_alcohol = full_df2[full_df2['Target']==1]['color_intensity']\n",
        "\n",
        "class_2_alcohol = full_df2[full_df2['Target']==2]['alcohol']\n",
        "class_2_alcohol = full_df2[full_df2['Target']==2]['color_intensity']"
      ],
      "execution_count": null,
      "outputs": []
    },
    {
      "cell_type": "code",
      "metadata": {
        "id": "JHMG_EIfFU5C",
        "colab": {
          "base_uri": "https://localhost:8080/",
          "height": 285
        },
        "outputId": "82fc5349-f9b2-4f3b-fa67-bd92d115b1ed"
      },
      "source": [
        "#Plotting Histogram for amount of alcohol levels per class\n",
        "\n",
        "plt.hist(class_0_alcohol, bins=n_bins)\n",
        "_ = plt.xlabel('alcohol')\n",
        "_ = plt.ylabel('count')\n",
        "plt.show()\n",
        "\n"
      ],
      "execution_count": null,
      "outputs": [
        {
          "output_type": "display_data",
          "data": {
            "image/png": "[encoded data removed]",
            "text/plain": [
              "<Figure size 432x288 with 1 Axes>"
            ]
          },
          "metadata": {
            "tags": []
          }
        }
      ]
    },
    {
      "cell_type": "markdown",
      "metadata": {
        "id": "23HyGABe-Dne"
      },
      "source": [
        "The above is a histogram for displaying the wines in class_0 alongside their alcohol percentages. From the plot, it is evident that this histogram is some-what bell shaped, if not slightly right skewed. We can also say that more than half the class_0 wines alcohol percentage is within the range of 13%-14%. "
      ]
    },
    {
      "cell_type": "code",
      "metadata": {
        "id": "baIomKpQF_IF",
        "colab": {
          "base_uri": "https://localhost:8080/",
          "height": 289
        },
        "outputId": "42ea3599-2e0d-420b-87b6-24d78346609e"
      },
      "source": [
        "_ = sns.swarmplot(x='Target_Text', y='alcohol', data=full_df2) \n",
        "\n",
        "# Label the axes\n",
        "_ = plt.xlabel('class')\n",
        "_ = plt.ylabel('alcohol')\n",
        "\n",
        "# Show the plot\n",
        "plt.show()"
      ],
      "execution_count": null,
      "outputs": [
        {
          "output_type": "display_data",
          "data": {
            "image/png": "[encoded data removed]",
            "text/plain": [
              "<Figure size 432x288 with 1 Axes>"
            ]
          },
          "metadata": {
            "tags": []
          }
        }
      ]
    },
    {
      "cell_type": "markdown",
      "metadata": {
        "id": "xg0DmKPAATvs"
      },
      "source": [
        "The above graph shows a bee swarm plot for each class in the wine dataset. Being able to see the individual plots allows us to analyse the data more effectively. Class_1 shows to contain wines with weaker alcohol strength, with the majority of the datapoints lying underneath the 12.5% mark. Its data points are also more dispersed in comparison to the other two classes with an alchol range as low as 11% all the way to just shy of 14%. !t does have some cross over with class_0 and class_2 on the upper end of its bee swarm plot. Class_0 is evidently the strongest class of wines, but it does have a lot of cross over with class_2, particularly in between the range of 13%-14%."
      ]
    },
    {
      "cell_type": "code",
      "metadata": {
        "id": "jKjve8sEIcqo",
        "colab": {
          "base_uri": "https://localhost:8080/",
          "height": 285
        },
        "outputId": "fedadde5-db3b-478a-f363-723081a11d82"
      },
      "source": [
        "x_class_0, y_class_0 = ecdf(class_0_alcohol)\n",
        "\n",
        "#making the plot\n",
        "plt.plot(x_class_0, y_class_0, marker='.', linestyle='none')\n",
        "\n",
        "#axes labels\n",
        "_ = plt.xlabel('class_0_alcohol') \n",
        "_ = plt.ylabel('ECDF')\n",
        "\n",
        "plt.show()"
      ],
      "execution_count": null,
      "outputs": [
        {
          "output_type": "display_data",
          "data": {
            "image/png": "[encoded data removed]",
            "text/plain": [
              "<Figure size 432x288 with 1 Axes>"
            ]
          },
          "metadata": {
            "tags": []
          }
        }
      ]
    },
    {
      "cell_type": "markdown",
      "metadata": {
        "id": "20pW6X31Bv6u"
      },
      "source": [
        "The above graph shows the ECDF function being used on the alcohol percentage data in class_0. It shows that about 70% of the wines in the class have an alcohol percentage of 14% or less. "
      ]
    },
    {
      "cell_type": "code",
      "metadata": {
        "id": "r99x44stJmui",
        "colab": {
          "base_uri": "https://localhost:8080/",
          "height": 321
        },
        "outputId": "ecd14c46-2527-4b66-98ca-de83aef62351"
      },
      "source": [
        "mean_class_0 = np.mean(list(class_0_alcohol))\n",
        "median_class_0 = np.median(list(class_0_alcohol))\n",
        "\n",
        "print('Mean: I. class_0 alcohol:', mean_class_0, '%')\n",
        "print('Median: I. class_0 alcohol:', median_class_0, '%')\n",
        "\n",
        "\n",
        "ax = plt.gca()\n",
        "_ = sns.swarmplot(x='Target_Text', y='alcohol', \n",
        "                  data=full_df2[full_df2['Target_Text'] == 'class_0'])\n",
        "ax.axhline(mean_class_0, color='r', linestyle='--')\n",
        "ax.axhline(median_class_0, color='g', linestyle='-')\n",
        "\n",
        "plt.legend({'Mean':mean_class_0,'Median':median_class_0})\n",
        "\n",
        "\n",
        "_ = plt.xlabel('class')\n",
        "_ = plt.ylabel('alcohol')\n",
        "\n",
        "plt.show()"
      ],
      "execution_count": null,
      "outputs": [
        {
          "output_type": "stream",
          "text": [
            "Mean: I. class_0 alcohol: 13.744745762711865 %\n",
            "Median: I. class_0 alcohol: 13.75 %\n"
          ],
          "name": "stdout"
        },
        {
          "output_type": "display_data",
          "data": {
            "image/png": "[encoded data removed]",
            "text/plain": [
              "<Figure size 432x288 with 1 Axes>"
            ]
          },
          "metadata": {
            "tags": []
          }
        }
      ]
    },
    {
      "cell_type": "markdown",
      "metadata": {
        "id": "zeDcfPzpGWIZ"
      },
      "source": [
        "The above graph is used to show the mean and median in the case of class_0. As we can see from the calculation that the mean and median are less than 1% away from each other. This would insinuate that the dispersion of class_0 is very tight and there are no outliers in the class. Thus it can be said that there is little to no skeweness in class_0 with regards to alcohol percentage. "
      ]
    },
    {
      "cell_type": "code",
      "metadata": {
        "id": "41DOJ0fs7sa1",
        "colab": {
          "base_uri": "https://localhost:8080/",
          "height": 288
        },
        "outputId": "bdf4c613-4192-49e9-bedf-edf3704d7539"
      },
      "source": [
        "_ = sns.boxplot(x='Target', y='alcohol', data = full_df2)\n",
        "_ = plt.xlabel('Wine Class')\n",
        "_ = plt.ylabel('alcohol percentage')\n",
        "plt.show()"
      ],
      "execution_count": null,
      "outputs": [
        {
          "output_type": "display_data",
          "data": {
            "image/png": "[encoded data removed]",
            "text/plain": [
              "<Figure size 432x288 with 1 Axes>"
            ]
          },
          "metadata": {
            "tags": []
          }
        }
      ]
    },
    {
      "cell_type": "markdown",
      "metadata": {
        "id": "Rubl3ZymSJyZ"
      },
      "source": [
        "Above you can see the final EDA strategy, a boxplots. Boxplots are a measure of how well the data in a dataset are distributed. On the graph you can see the min,max and median, as well as the first and third quartiles. This range in between the first and third quarter is also known as the interquartile range, and this shows the middle 50% of the data. Also on boxplots there can sometimes be outliers, which is evident on class one's boxplot. From the above boxplots, we can see that the three wine classes are all normally distributed. It can also be seen that the class 0 has the greatest median and class 1 having the smallest, showing a difference in the alcohol levels in each class. The three boxes are all of similar size, showing that the data is equally dispersed among the the three classes.  "
      ]
    },
    {
      "cell_type": "code",
      "metadata": {
        "id": "Ow5vJye-Rvte"
      },
      "source": [
        ""
      ],
      "execution_count": null,
      "outputs": []
    }
  ]
}